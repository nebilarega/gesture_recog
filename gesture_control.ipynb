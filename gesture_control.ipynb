{
  "nbformat": 4,
  "nbformat_minor": 0,
  "metadata": {
    "colab": {
      "name": "gesture_control.ipynb",
      "provenance": [],
      "collapsed_sections": [],
      "toc_visible": true,
      "mount_file_id": "1xSN9Pulum1jzcM91JUjjZ6wXoEaQyHVj",
      "authorship_tag": "ABX9TyP16XjJPjNWRQVkX9duKHwE",
      "include_colab_link": true
    },
    "kernelspec": {
      "name": "python3",
      "display_name": "Python 3"
    },
    "accelerator": "GPU"
  },
  "cells": [
    {
      "cell_type": "markdown",
      "metadata": {
        "id": "view-in-github",
        "colab_type": "text"
      },
      "source": [
        "<a href=\"https://colab.research.google.com/github/nebilarega/gesture_recog/blob/main/gesture_control.ipynb\" target=\"_parent\"><img src=\"https://colab.research.google.com/assets/colab-badge.svg\" alt=\"Open In Colab\"/></a>"
      ]
    },
    {
      "cell_type": "markdown",
      "metadata": {
        "id": "GBA53fSEqdSW"
      },
      "source": [
        "## Data fetch and preprocessing"
      ]
    },
    {
      "cell_type": "code",
      "metadata": {
        "id": "-XUgs5Oy7RIM"
      },
      "source": [
        "import sys\n",
        "import tarfile\n",
        "import zipfile\n",
        "from six.moves import urllib\n",
        "import os\n",
        "import numpy as np\n",
        "import matplotlib.pyplot as plt\n",
        "from skimage.transform import resize\n",
        "import tensorflow as tf\n",
        "from sklearn.model_selection import train_test_split\n",
        "from tensorflow.keras.preprocessing.image import ImageDataGenerator"
      ],
      "execution_count": null,
      "outputs": []
    },
    {
      "cell_type": "markdown",
      "metadata": {
        "id": "Hh50C5JLqwBt"
      },
      "source": [
        "### Creating path to extract file and store"
      ]
    },
    {
      "cell_type": "code",
      "metadata": {
        "id": "WsWaPdCo3fah"
      },
      "source": [
        "path = '/content/drive/MyDrive/gesture_dataset'\n",
        "os.makedirs(path, exist_ok=True)\n",
        "zip_path = '/content/drive/MyDrive/archive_1.zip'\n",
        "gesture_zip = zipfile.ZipFile(zip_path)\n",
        "gesture_zip.extractall(path=path)\n",
        "gesture_zip.close()\n",
        "os.remove(zip_path)"
      ],
      "execution_count": null,
      "outputs": []
    },
    {
      "cell_type": "markdown",
      "metadata": {
        "id": "M_-g2buDrCG6"
      },
      "source": [
        "### Get the file directories and randomize the dirs"
      ]
    },
    {
      "cell_type": "code",
      "metadata": {
        "id": "uiyY-1poL5sL"
      },
      "source": [
        "real_path = os.path.join(path, 'leapGestRecog')\n",
        "directories = [directories for directories in sorted(os.listdir(real_path))]"
      ],
      "execution_count": null,
      "outputs": []
    },
    {
      "cell_type": "code",
      "metadata": {
        "id": "LR1eejF_SOmE"
      },
      "source": [
        "data_dir = [[],[],[],[],[],[],[],[],[],[]]\n",
        "for i in range(len(directories)):\n",
        "  _dir = [_dir for _dir in sorted(os.listdir(os.path.join(real_path, directories[i])))]\n",
        "  for j in range(len(_dir)):\n",
        "    __dir = [__dir for __dir in sorted(os.listdir(os.path.join(real_path, directories[i],_dir[j])))]\n",
        "    for k in range(len(__dir)):\n",
        "      __dir[k] = '/'.join((real_path, directories[i], _dir[j],__dir[k]))\n",
        "    data_dir[i].append(__dir)"
      ],
      "execution_count": null,
      "outputs": []
    },
    {
      "cell_type": "code",
      "metadata": {
        "id": "hDEQ8QENuDIB"
      },
      "source": [
        "y = []\n",
        "X_dir = []\n",
        "for i in range(len(data_dir)):\n",
        "  for j in range(len(data_dir[i])):\n",
        "    for k in range(len(data_dir[i][j])):\n",
        "      X_dir.append(data_dir[i][j][k])\n",
        "      y.append(j)"
      ],
      "execution_count": null,
      "outputs": []
    },
    {
      "cell_type": "code",
      "metadata": {
        "id": "Y0ZByFFAHOg2"
      },
      "source": [
        "X_dir = np.asarray(X_dir)\n",
        "y = np.array(y)\n",
        "shuffle_index = np.random.permutation(20000)\n",
        "X_dir, y = X_dir[shuffle_index], y[shuffle_index]\n",
        "\n",
        "X_train_dir, y_train = X_dir[:15000], y[:15000] \n",
        "X_test_dir, y_test = X_dir[15000:], y[15000:]"
      ],
      "execution_count": null,
      "outputs": []
    },
    {
      "cell_type": "code",
      "metadata": {
        "id": "j-95tilIisuq"
      },
      "source": [
        "X_train_dir.shape"
      ],
      "execution_count": null,
      "outputs": []
    },
    {
      "cell_type": "code",
      "metadata": {
        "id": "rn1qlWM5FEmy"
      },
      "source": [
        "import shutil\r\n",
        "os.makedirs('gesture_datasets')"
      ],
      "execution_count": null,
      "outputs": []
    },
    {
      "cell_type": "code",
      "metadata": {
        "id": "TFcmMgfeGeZU"
      },
      "source": [
        "path = 'gesture_datasets'\r\n",
        "for i in X_dir:\r\n",
        "  shutil.copy(i,path)"
      ],
      "execution_count": null,
      "outputs": []
    },
    {
      "cell_type": "markdown",
      "metadata": {
        "id": "I1aIFgx9rMbU"
      },
      "source": [
        "### As the data does not fit in memeory get the file in batches"
      ]
    },
    {
      "cell_type": "code",
      "metadata": {
        "id": "yZgzb2Fk5y1B"
      },
      "source": [
        "def get_batches(index, batch_size):\n",
        "  X_batch = list()\n",
        "  y_batch = list()\n",
        "\n",
        "  first_index = index*batch_size\n",
        "  final_index = (index+1)*batch_size\n",
        "  while first_index < final_index:\n",
        "    image = plt.imread(X_train_dir[first_index])\n",
        "    image_resized = resize(image, (224,224,3))\n",
        "    X_batch.append(image_resized)\n",
        "    y_batch.append(y_train[first_index])\n",
        "    first_index = first_index + 1; \n",
        "    X_batch_final = np.asarray(X_batch)\n",
        "    y_batch_final = np.array(y_batch)\n",
        "  return X_batch_final, y_batch_final"
      ],
      "execution_count": null,
      "outputs": []
    },
    {
      "cell_type": "markdown",
      "metadata": {
        "id": "rvttgQdIrVyi"
      },
      "source": [
        "#### some files may use later"
      ]
    },
    {
      "cell_type": "code",
      "metadata": {
        "id": "hnzl0TZVbuin"
      },
      "source": [
        "X_some, y_some = [],[]\r\n",
        "for index in range(len(X_test_dir)):\r\n",
        "  X_some.append(resize(plt.imread(X_test_dir[index]), (224,224,3)))\r\n",
        "  y_some.append(y_test[index])\r\n",
        "\r\n",
        "\r\n",
        "X_some = np.asarray(X_some)\r\n",
        "y_some = np.array(y_some)\r\n"
      ],
      "execution_count": null,
      "outputs": []
    },
    {
      "cell_type": "code",
      "metadata": {
        "id": "fHdRksfWdt1F"
      },
      "source": [
        "X_some = np.asarray(X_some)\r\n",
        "y_some = np.array(y_some)"
      ],
      "execution_count": null,
      "outputs": []
    },
    {
      "cell_type": "markdown",
      "metadata": {
        "id": "z8LNlrpVrd4Q"
      },
      "source": [
        "### Trying to use vgg16\r\n",
        "\r\n"
      ]
    },
    {
      "cell_type": "code",
      "metadata": {
        "id": "7iK_xSRjONwQ",
        "colab": {
          "base_uri": "https://localhost:8080/",
          "height": 135
        },
        "outputId": "324a6730-cc5a-4475-8db3-959e25577ca9"
      },
      "source": [
        "data_augmentation = tf.keras.Sequential([\n",
        "  tf.keras.layers.experimental.preprocessing.RandomFlip('horizontal'),\n",
        "  tf.keras.layers.experimental.preprocessing.RandomRotation(0.2),\n",
        "])\n",
        "\n",
        "base_model = tf.keras.applications.VGG16(\n",
        "    include_top=False, weights=\"imagenet\",\n",
        "    input_shape=(224,224,3), \n",
        ")\n",
        "\n",
        "for layers in base_model.layers:\n",
        "  layers.trainable = False\n",
        "\n",
        "base_model.summary()\n",
        "\n",
        "preprocess_input = tf.keras.applications.vgg16.preprocess_input\n",
        "flatten_layer = tf.keras.layers.Flatten()\n",
        "intermidate_1 = tf.keras.layers.Dense(476, activation='elu', name='fc1' kernel_initializer=\"he_normal\")\n",
        "intermidate_2 = tf.keras.layers.Dense(324, activation='elu', name='fc2', kernel_initializer=\"he_normal\")\n",
        "prediction_layer = tf.keras.layers.Dense(10, activation=\"softmax\")\n",
        "inputs = tf.keras.Input(shape=(224,224,3))\n",
        "x = data_augmentation(inputs)\n",
        "x = preprocess_input(x)\n",
        "x = base_model(x)\n",
        "x = flatten_layer(x)\n",
        "x = intermidate_1(x)\n",
        "x = intermidate_2(x)\n",
        "output = prediction_layer(x)\n",
        "\n",
        "model = tf.keras.Model(inputs, output)"
      ],
      "execution_count": null,
      "outputs": [
        {
          "output_type": "error",
          "ename": "SyntaxError",
          "evalue": "ignored",
          "traceback": [
            "\u001b[0;36m  File \u001b[0;32m\"<ipython-input-8-d98fc079b51b>\"\u001b[0;36m, line \u001b[0;32m18\u001b[0m\n\u001b[0;31m    intermidate_1 = tf.keras.layers.Dense(476, activation='elu', name='fc1' kernel_initializer=\"he_normal\")\u001b[0m\n\u001b[0m                                                                                             ^\u001b[0m\n\u001b[0;31mSyntaxError\u001b[0m\u001b[0;31m:\u001b[0m invalid syntax\n"
          ]
        }
      ]
    },
    {
      "cell_type": "code",
      "metadata": {
        "id": "MCcNyMlhn248"
      },
      "source": [
        "from tensorflow.keras import models, layers\n",
        "new_model=models.Sequential()\n",
        "new_model.add(layers.Conv2D(32, (5, 5), strides=(2, 2), activation='relu', input_shape=(224, 224,3))) \n",
        "new_model.add(layers.MaxPooling2D((2, 2)))\n",
        "new_model.add(layers.Conv2D(64, (3, 3), activation='relu')) \n",
        "new_model.add(layers.MaxPooling2D((2, 2)))\n",
        "new_model.add(layers.Conv2D(64, (3, 3), activation='relu'))\n",
        "new_model.add(layers.MaxPooling2D((2, 2)))\n",
        "new_model.add(layers.Flatten())\n",
        "new_model.add(layers.Dropout(0.5))\n",
        "new_model.add(layers.Dense(128, activation='relu'))\n",
        "new_model.add(layers.Dropout(0.5))\n",
        "new_model.add(layers.Dense(10, activation='softmax'))\n",
        "\n",
        "# loss_fn = tf.keras.losses.SparseCategoricalCrossentropy(from_logits=True)\n",
        "# optim = tf.keras.optimizers.Adam(learning_rate=0.001)\n",
        "# train_acc_metrics = tf.keras.metrics.SparseCategoricalAccuracy()\n",
        "\n",
        "# new_model.compile(optimizer=optim, loss=loss_fn, metrics=train_acc_metrics)\n",
        "\n",
        "# new_model.fit(X_some, y_some, callbacks=[tf.keras.callbacks.EarlyStopping(patience=4)], epochs=8)"
      ],
      "execution_count": null,
      "outputs": []
    },
    {
      "cell_type": "code",
      "metadata": {
        "id": "ziyIwcDFLS6Y"
      },
      "source": [
        "loss_fn = tf.keras.losses.SparseCategoricalCrossentropy(from_logits=True)\n",
        "optim = tf.keras.optimizers.Adam(learning_rate=0.01)\n",
        "train_acc_metrics = tf.keras.metrics.SparseCategoricalAccuracy()\n",
        "\n",
        "checkpoint_dir = \"/content/drive/MyDrive/tf_ckpts\"\n",
        "#os.mkdir(checkpoint_dir)\n",
        "\n",
        "ckpt = tf.train.Checkpoint(step=tf.Variable(1), model=new_model, optimizer=optim)\n",
        "manager = tf.train.CheckpointManager(ckpt, checkpoint_dir, max_to_keep=6)"
      ],
      "execution_count": null,
      "outputs": []
    },
    {
      "cell_type": "code",
      "metadata": {
        "id": "b_814ipmORwV"
      },
      "source": [
        "import time\n",
        "n_epochs = 3\n",
        "batch_size = 64\n",
        "\n",
        "train_loss, train_accuracy = [],[]\n",
        "\n",
        "ckpt.restore(manager.latest_checkpoint)\n",
        "if manager.latest_checkpoint:\n",
        "    print(\"Restored from {}\".format(manager.latest_checkpoint))\n",
        "else:\n",
        "    print(\"Initializing from scratch.\")\n",
        "total_time_start = time.time()\n",
        "for epoch in range(n_epochs):\n",
        "  batch_start_time = time.time()\n",
        "  for iteration in range(15000 // batch_size):\n",
        "    X_batch_resized = []\n",
        "    X_batch, y_batch = get_batches(iteration, batch_size)\n",
        "    X_batch, y_batch = augmentation.flow(X_batch,y_batch, 64)[0]\n",
        "    # X_batch = np.reshape(X_batch, (-1, 224, 224, 3))\n",
        "    # X_batch, y_batch = my_training_data_generator[0][0], my_training_data_generator[0][1]\n",
        "    with tf.GradientTape() as tape:\n",
        "      logits = new_model(X_batch)\n",
        "      loss_value = loss_fn(y_batch, logits)\n",
        "    grads = tape.gradient(loss_value, new_model.trainable_variables)\n",
        "    optim.apply_gradients(zip(grads, new_model.trainable_variables))\n",
        "\n",
        "    train_acc_metrics.update_state(y_batch, logits)\n",
        "    batch_accuracy = train_acc_metrics.result()\n",
        "    train_accuracy.append(batch_accuracy.numpy())\n",
        "    train_loss.append(loss_value.numpy())\n",
        "    print(\"batch\", iteration, \"accuracy: \", batch_accuracy.numpy(), \"batch\", iteration,\" ----  \" \"loss\", loss_value.numpy())\n",
        "    if iteration % 200 == 0:\n",
        "            print(\n",
        "                \"Training loss (for one batch) at step %d: %.4f\"\n",
        "                % (iteration, float(loss_value))\n",
        "            )\n",
        "            print(\"Seen so far: %d samples\" % ((iteration + 1) * 10))\n",
        "            print(\"time(seconds): \", time.time()-batch_start_time)\n",
        "\n",
        "  ckpt.step.assign_add(1)\n",
        "  save_path = manager.save()\n",
        "\n",
        "  # Display metrics at the end of each epoch.\n",
        "  train_acc = train_acc_metrics.result()\n",
        "  print(\"Training acc over epoch: %.4f\" % (float(train_acc),))\n",
        "\n",
        "  # Reset training metrics at the end of each epoch\n",
        "  train_acc_metrics.reset_states()\n",
        "\n",
        "  \n",
        "\n",
        "  print(\"Saved checkpoint for epoch {}: {}\".format(int(ckpt.step), save_path))\n",
        "\n",
        "print(\"Total time taken\", total_time_start - time.time())\n",
        "\n",
        "new_model.save(\"/content/drive/MyDrive/mode1_3.h5\")\n"
      ],
      "execution_count": null,
      "outputs": []
    },
    {
      "cell_type": "code",
      "metadata": {
        "id": "IZdt1A45YYDP"
      },
      "source": [
        "from sklearn.metrics import accuracy_score\r\n",
        "loaded_model = tf.keras.models.load_model(\"/content/drive/MyDrive/mode1_3.h5\")\r\n",
        "\r\n",
        "y_predict = np.argmax(loaded_model.predict(X_some),axis=1)\r\n",
        "score = accuracy_score(y_some, y_predict)"
      ],
      "execution_count": null,
      "outputs": []
    },
    {
      "cell_type": "code",
      "metadata": {
        "colab": {
          "base_uri": "https://localhost:8080/"
        },
        "id": "KCR1LOK7Ub9a",
        "outputId": "45d81777-059b-4247-9ea8-9985da34cf50"
      },
      "source": [
        "score"
      ],
      "execution_count": null,
      "outputs": [
        {
          "output_type": "execute_result",
          "data": {
            "text/plain": [
              "0.9747126436781609"
            ]
          },
          "metadata": {
            "tags": []
          },
          "execution_count": 18
        }
      ]
    },
    {
      "cell_type": "code",
      "metadata": {
        "id": "tdN1RZw5P4lL"
      },
      "source": [
        ""
      ],
      "execution_count": null,
      "outputs": []
    },
    {
      "cell_type": "markdown",
      "metadata": {
        "id": "-l400FZ8keYb"
      },
      "source": [
        "### Using fit_generator with image augmentaion"
      ]
    },
    {
      "cell_type": "code",
      "metadata": {
        "id": "NlqUOfanzmMC"
      },
      "source": [
        "augmentation = ImageDataGenerator(\r\n",
        "  rotation_range=20,\r\n",
        "  zoom_range=0.15,\r\n",
        "\twidth_shift_range=0.2,\r\n",
        "\thorizontal_flip=True)"
      ],
      "execution_count": null,
      "outputs": []
    },
    {
      "cell_type": "code",
      "metadata": {
        "id": "Z98_TwEpknRz"
      },
      "source": [
        "class My_Custom_Generator(tf.keras.utils.Sequence):\r\n",
        "  def __init__(self, X_dir, y, batch_size):\r\n",
        "    self.X_dir = X_dir\r\n",
        "    self.y = y\r\n",
        "    self.batch_size = batch_size\r\n",
        "  def __len__(self):\r\n",
        "      return (np.ceil(len(self.X_dir) / float(self.batch_size))).astype(np.int)\r\n",
        "  def __getitem__(self, idx) :\r\n",
        "    batch_x = self.X_dir[idx * self.batch_size : (idx+1) * self.batch_size]\r\n",
        "    batch_y = self.y[idx * self.batch_size : (idx+1) * self.batch_size]\r\n",
        "    \r\n",
        "    images,labels = np.array([\r\n",
        "            resize(plt.imread(file_name), (224, 224, 3))\r\n",
        "               for file_name in batch_x]),np.array(batch_y)\r\n",
        "\r\n",
        "    # (images, labels) = next(augmentation.flow(images, labels, 64))\r\n",
        "    return images, labels\r\n"
      ],
      "execution_count": null,
      "outputs": []
    },
    {
      "cell_type": "code",
      "metadata": {
        "id": "Q3WgsYTapodu"
      },
      "source": [
        "my_training_data_generator = My_Custom_Generator(X_dir[:15000], y[:15000], 64)\r\n",
        "my_validation_data_generator = My_Custom_Generator(X_dir[15000:], y[15000:], 64)"
      ],
      "execution_count": null,
      "outputs": []
    },
    {
      "cell_type": "code",
      "metadata": {
        "id": "NJGVmJK5QEY1"
      },
      "source": [
        "image = my_training_data_generator[0][0][1]\r\n",
        "label = my_training_data_generator[0][1][1]\r\n",
        "plt.imshow(image)\r\n",
        "plt.show()"
      ],
      "execution_count": null,
      "outputs": []
    },
    {
      "cell_type": "code",
      "metadata": {
        "id": "U9O_-SWWqSQQ"
      },
      "source": [
        "new_model.compile(optimizer=optim, loss=loss_fn, metrics=train_acc_metrics)"
      ],
      "execution_count": null,
      "outputs": []
    },
    {
      "cell_type": "code",
      "metadata": {
        "id": "SD18b8R6rMuy"
      },
      "source": [
        "history = new_model.fit(x=My_Custom_Generator(X_dir[:15000], y[:15000], 64),\r\n",
        "              steps_per_epoch= int(15000 // 64),\r\n",
        "              epochs = 30,\r\n",
        "              callbacks=tf.keras.callbacks.ModelCheckpoint('/content/drive/MyDrive/mode1_5.h5')\r\n",
        "              )\r\n",
        "new_model.save(\"/content/drive/MyDrive/mode1_5.h5\")"
      ],
      "execution_count": null,
      "outputs": []
    },
    {
      "cell_type": "code",
      "metadata": {
        "id": "T7itp3vIWndX"
      },
      "source": [
        "classes = ['palm', 'I', 'fist', 'fist_moved', 'thumb', 'index', 'ok', 'palm_moved', 'c', 'down']"
      ],
      "execution_count": null,
      "outputs": []
    }
  ]
}